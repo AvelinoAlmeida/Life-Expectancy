{
 "cells": [
  {
   "cell_type": "markdown",
   "metadata": {},
   "source": [
    "# 3 - Machine Learning (ML)\n",
    "*Processo de criação, treino, avaliação e validação de modelos*\n",
    "\n",
    "![Data Preparation](./img/imagem3.jpg \"Preparação dos dados\")\n",
    "\n",
    "## Objetivos\n",
    "\n",
    "1. Preparação dos dados: Dado que já fizemos no capitulo 2 este passo já podemos avançar para a dividão dos dados\n",
    "2. Divisão dos dados: Vamos neste ponto separar o conjunto de treino e o conjunto de teste.\n",
    "3. Treinar modelos preditivos: A comparação de modelos (Linear Regression, Ridge, MLP, Random Forest, Gradient Boosting).\n",
    "4. Validação: No fim iremos avaluiar os modelos com métricas usadas na formação MAE, MSE e R²."
   ]
  },
  {
   "cell_type": "markdown",
   "metadata": {},
   "source": [
    "--- \n",
    "\n",
    "## 3.1 - Bibliotecas Utilizadas"
   ]
  },
  {
   "cell_type": "code",
   "execution_count": null,
   "metadata": {},
   "outputs": [],
   "source": [
    "import pandas as pd\n",
    "import matplotlib.pyplot as plt\n",
    "import seaborn as sns\n",
    "import numpy as np\n",
    "from sklearn.impute import SimpleImputer\n",
    "from sklearn.linear_model import LinearRegression\n",
    "from sklearn.metrics import mean_absolute_error, mean_squared_error, r2_score\n",
    "from sklearn.model_selection import train_test_split\n",
    "from sklearn.neural_network import MLPRegressor\n",
    "from sklearn.ensemble import GradientBoostingRegressor, RandomForestRegressor\n",
    "from sklearn.linear_model import Ridge\n",
    "import joblib\n"
   ]
  },
  {
   "cell_type": "markdown",
   "metadata": {},
   "source": [
    "---\n",
    "## 2.2 - Dataset Treino"
   ]
  },
  {
   "cell_type": "code",
   "execution_count": null,
   "metadata": {},
   "outputs": [],
   "source": [
    "\n",
    "df_cleaned = pd.read_csv('./data/Life_Expectancy_Clean.csv')"
   ]
  },
  {
   "cell_type": "markdown",
   "metadata": {},
   "source": [
    "## 3.2 - Preparar os Dados (Divisão do Dataset)\n",
    "* Variável dependente (alvo): Life expectancy.\n",
    "* Variáveis independentes (entradas): os restantes fatores.\n",
    "* Dividir o dataset em treino (80%) e teste (20%)."
   ]
  },
  {
   "cell_type": "code",
   "execution_count": null,
   "metadata": {},
   "outputs": [],
   "source": [
    "from sklearn.model_selection import train_test_split\n",
    "\n",
    "# Divisão em treino e teste\n",
    "train, test = train_test_split(df_cleaned, test_size=0.2, random_state=42)\n",
    "\n",
    "# Separar variáveis independentes e dependentes no treino\n",
    "X_train = train.drop(columns=[\"Life expectancy\"])\n",
    "y_train = train[\"Life expectancy\"]\n",
    "\n",
    "# Separar variáveis independentes e dependentes no teste\n",
    "X_test = test.drop(columns=[\"Life expectancy\"])\n",
    "y_test = test[\"Life expectancy\"]\n",
    "\n",
    "# Exibir tamanhos\n",
    "print(f\"Conjunto de Treino: {train.shape[0]} linhas, {train.shape[1]} colunas\")\n",
    "print(f\"Conjunto de Teste: {test.shape[0]} linhas, {test.shape[1]} colunas\")\n"
   ]
  },
  {
   "cell_type": "markdown",
   "metadata": {},
   "source": [
    "---\n",
    "\n",
    "## 3.3 - Treinar o Modelo"
   ]
  },
  {
   "cell_type": "markdown",
   "metadata": {},
   "source": [
    "Métricas para Avaliação\n",
    "\n",
    "* MAE (Mean Absolute Error):\n",
    "Mede a média da diferença entre o valor real com o predito\n",
    "\n",
    "* MSE (Mean Squared Error):\n",
    "Calcula a média de diferença entre o valor predito com o real\n",
    "\n",
    "* R² Score:\n",
    "Representa o percentual da variância dos dados que é explicado pelo modelo."
   ]
  },
  {
   "cell_type": "code",
   "execution_count": null,
   "metadata": {},
   "outputs": [],
   "source": [
    "# Treinar e avaliar modelos\n",
    "def train_and_evaluate(model, model_name, X_train, y_train, X_test, y_test):\n",
    "    \"\"\"\n",
    "    Treina e avalia um modelo com métricas comuns de regressão.\n",
    "    \n",
    "    Parâmetros:\n",
    "    - model: Instância do modelo.\n",
    "    - model_name: Nome do modelo (str).\n",
    "    - X_train, y_train: Dados de treino.\n",
    "    - X_test, y_test: Dados de teste.\n",
    "    \n",
    "    Retorno:\n",
    "    - Dicionário com os resultados de avaliação.\n",
    "    \"\"\"\n",
    "    model.fit(X_train, y_train)\n",
    "    y_pred = model.predict(X_test)\n",
    "    \n",
    "    return {\n",
    "        \"Model\": model_name,\n",
    "        \"MAE\": mean_absolute_error(y_test, y_pred),\n",
    "        \"MSE\": mean_squared_error(y_test, y_pred),\n",
    "        \"R²\": r2_score(y_test, y_pred),\n",
    "    }"
   ]
  },
  {
   "cell_type": "code",
   "execution_count": null,
   "metadata": {},
   "outputs": [],
   "source": [
    "# Lista de modelos a serem avaliados\n",
    "models = [\n",
    "    (MLPRegressor(hidden_layer_sizes=(50, 50), max_iter=500, random_state=42), \"Deep Learning (MLPRegressor)\"),\n",
    "    (GradientBoostingRegressor(n_estimators=100, learning_rate=0.1, max_depth=3, random_state=42), \"Gradient Boosting Machine (GBM)\"),\n",
    "    (RandomForestRegressor(n_estimators=100, random_state=42), \"Distributed Random Forest (DRF)\"),\n",
    "    (Ridge(alpha=1.0, random_state=42), \"Generalized Linear Model (GLM)\"),\n",
    "]"
   ]
  },
  {
   "cell_type": "code",
   "execution_count": null,
   "metadata": {},
   "outputs": [],
   "source": [
    "# Avaliar todos os modelos\n",
    "results = []\n",
    "for model, name in models:\n",
    "    results.append(train_and_evaluate(model, name, X_train, y_train, X_test, y_test))\n",
    "\n",
    "# Exibir os resultados como DataFrame para facilitar a comparação\n",
    "results_df = pd.DataFrame(results)\n",
    "print(\"Resultados Obtidos:\")\n",
    "print(results_df)\n",
    "\n",
    "# Gráfico comparativo dos resultados\n",
    "results_df.set_index(\"Model\", inplace=True)\n",
    "results_df.plot(kind=\"bar\", figsize=(10, 6), rot=45, alpha=0.75)\n",
    "plt.title(\"Comparação de Modelos - Métricas de Desempenho\")\n",
    "plt.ylabel(\"Valores\")\n",
    "plt.xlabel(\"Modelos\")\n",
    "plt.legend(title=\"Métricas\")\n",
    "plt.tight_layout()\n",
    "plt.show()"
   ]
  },
  {
   "cell_type": "markdown",
   "metadata": {},
   "source": [
    "# Distributed Random Forest (DRF) vs. Gradient Boosting Machine (GBM) \n",
    "\n",
    "1. Para o probelma \"Como os Fatores Socioeconómicos Influenciam a Expectativa de Vida?\" vamos usar o **modelo DRF**\n",
    "2. Para o problema \"Qual o Impacto das Taxas de Vacinação na Mortalidade Infantil e Expectativa de Vida?\" vamos usar o **modelo GBM**"
   ]
  },
  {
   "cell_type": "markdown",
   "metadata": {},
   "source": [
    "--- \n",
    "\n",
    "# 3.4 - Como os Fatores Socioeconómicos Influenciam a Expectativa de Vida?"
   ]
  },
  {
   "cell_type": "code",
   "execution_count": null,
   "metadata": {},
   "outputs": [],
   "source": [
    "# Definir as variáveis independentes (Taxas de vacinação)\n",
    "Train = X_train[['percentage expenditure', 'Total expenditure', 'GDP', 'Income composition of resources', 'Schooling']]\n",
    "Target = y_train\n",
    "\n",
    "# Testar no conjunto de teste\n",
    "Test = X_test[['percentage expenditure', 'Total expenditure', 'GDP', 'Income composition of resources', 'Schooling']]\n",
    "Test_Target = y_test\n",
    "\n",
    "# Treinar o modelo\n",
    "model = RandomForestRegressor(n_estimators=100, random_state=42)\n",
    "model.fit(Train, Target)\n",
    "\n",
    "# Fazer previsões\n",
    "y_pred = model.predict(Test)\n",
    "\n",
    "from sklearn.metrics import mean_absolute_error, mean_squared_error, r2_score\n",
    "\n",
    "# Avaliar o desempenho\n",
    "mae = mean_absolute_error(Test_Target, y_pred)\n",
    "mse = mean_squared_error(Test_Target, y_pred)\n",
    "r2 = r2_score(Test_Target, y_pred)\n",
    "\n",
    "# Exibir os resultados de forma clara e organizada\n",
    "print(\"=\"*50)\n",
    "print(\"Impacto dos Fatores Socioeconômicos no Desempenho\")\n",
    "print(\"=\"*50)\n",
    "print(f\"Mean Absolute Error (MAE): {mae:.2f}\")\n",
    "print(f\"Mean Squared Error (MSE): {mse:.2f}\")\n",
    "print(f\"R² Score: {r2:.2f}\")\n",
    "print(\"=\"*50)\n",
    "\n",
    "\n",
    "# Importância das Variáveis\n",
    "feature_importance = model.feature_importances_\n",
    "features = Train.columns\n",
    "\n",
    "plt.figure(figsize=(8, 5))\n",
    "plt.barh(features, feature_importance, color='skyblue')\n",
    "plt.title(\"Importância dos fatores socioeconómicos\")\n",
    "plt.xlabel(\"Importância\")\n",
    "plt.ylabel(\"Valor\")\n",
    "plt.show()\n",
    "\n",
    "# Gráfico de Valores Reais vs. Previstos\n",
    "plt.figure(figsize=(10, 6))\n",
    "plt.scatter(Test_Target, y_pred, alpha=0.7, color=\"blue\", label=\"Previsões\")\n",
    "plt.plot([min(Test_Target), max(Test_Target)], [min(Test_Target), max(Test_Target)], '--', color='red', label=\"Linha Perfeita\")\n",
    "plt.title(\"Valores Reais vs. Previstos\")\n",
    "plt.xlabel(\"Valores Reais\")\n",
    "plt.ylabel(\"Valores Previstos\")\n",
    "plt.legend()\n",
    "plt.show()"
   ]
  },
  {
   "cell_type": "markdown",
   "metadata": {},
   "source": [
    "--- \n",
    "\n",
    "# 3.5 - Qual o Impacto das Taxas de Vacinação na Mortalidade Infantil e Expectativa de Vida?"
   ]
  },
  {
   "cell_type": "code",
   "execution_count": null,
   "metadata": {},
   "outputs": [],
   "source": [
    "\n",
    "# Definir as variáveis independentes (Taxas de vacinação)\n",
    "Train = X_train[['Hepatitis B', 'Polio', 'Diphtheria']]\n",
    "Target = y_train\n",
    "\n",
    "# Testar no conjunto de teste\n",
    "Test = X_test[['Hepatitis B', 'Polio', 'Diphtheria']]\n",
    "Test_Target = y_test\n",
    "\n",
    "# Treinar o modelo Gradient Boosting Machine (GDM)\n",
    "model_gdm = GradientBoostingRegressor(n_estimators=100, learning_rate=0.1, max_depth=3, random_state=42)\n",
    "model_gdm.fit(Train, Target)\n",
    "\n",
    "# Fazer previsões\n",
    "y_pred_gdm = model_gdm.predict(Test)\n",
    "\n",
    "# Avaliar o desempenho\n",
    "mae_gdm = mean_absolute_error(Test_Target, y_pred_gdm)\n",
    "mse_gdm = mean_squared_error(Test_Target, y_pred_gdm)\n",
    "r2_gdm = r2_score(Test_Target, y_pred_gdm)\n",
    "\n",
    "# Exibir os resultados de forma clara e organizada\n",
    "print(\"=\"*50)\n",
    "print(\"Impacto das Taxas de Vacinação (Gradient Boosting Machine):\")\n",
    "print(\"=\"*50)\n",
    "print(f\"Mean Absolute Error (MAE): {mae_gdm:.2f}\")\n",
    "print(f\"Mean Squared Error (MSE): {mse_gdm:.2f}\")\n",
    "print(f\"R² Score: {r2_gdm:.2f}\")\n",
    "print(\"=\"*50)\n",
    "\n",
    "# Importância das Variáveis\n",
    "feature_importance_gdm = model_gdm.feature_importances_\n",
    "features = Train.columns\n",
    "\n",
    "plt.figure(figsize=(8, 5))\n",
    "plt.barh(features, feature_importance_gdm, color='lightgreen')\n",
    "plt.title(\"Importância das Taxas de Vacinação (GDM)\")\n",
    "plt.xlabel(\"Importância\")\n",
    "plt.ylabel(\"Taxas de Vacinação\")\n",
    "plt.show()\n",
    "\n",
    "# Gráfico de Valores Reais vs. Previstos\n",
    "plt.figure(figsize=(10, 6))\n",
    "plt.scatter(Test_Target, y_pred_gdm, alpha=0.7, color=\"blue\", label=\"Previsões\")\n",
    "plt.plot([min(Test_Target), max(Test_Target)], [min(Test_Target), max(Test_Target)], '--', color='red', label=\"Linha Perfeita\")\n",
    "plt.title(\"Valores Reais vs. Previstos - Gradient Boosting Machine\")\n",
    "plt.xlabel(\"Valores Reais\")\n",
    "plt.ylabel(\"Valores Previstos\")\n",
    "plt.legend()\n",
    "plt.show()\n",
    "\n",
    "\n"
   ]
  },
  {
   "cell_type": "markdown",
   "metadata": {},
   "source": [
    "## 3.4 - Guardar dataset_Treino\n"
   ]
  },
  {
   "cell_type": "code",
   "execution_count": null,
   "metadata": {},
   "outputs": [],
   "source": [
    "# Guardar os datasets de treino e teste\n",
    "def save_datasets(train_df, test_df, train_path, test_path):\n",
    "\n",
    "# guardar os datasets\n",
    "    train_df.to_csv(train_path, index=False)\n",
    "    test_df.to_csv(test_path, index=False)\n",
    "    \n",
    "# Exibir os caminhos dos arquivos salvos\n",
    "    return train_path, test_path\n",
    "\n",
    "# Usar a função para guardar os datasets\n",
    "train_path = './data/Life_Expectancy_Treino.csv'\n",
    "test_path = './data/Life_Expectancy_Test.csv'\n",
    "save_datasets(X_train, X_test, train_path, test_path)\n"
   ]
  }
 ],
 "metadata": {
  "kernelspec": {
   "display_name": ".venv",
   "language": "python",
   "name": "python3"
  },
  "language_info": {
   "codemirror_mode": {
    "name": "ipython",
    "version": 3
   },
   "file_extension": ".py",
   "mimetype": "text/x-python",
   "name": "python",
   "nbconvert_exporter": "python",
   "pygments_lexer": "ipython3",
   "version": "3.13.1"
  }
 },
 "nbformat": 4,
 "nbformat_minor": 2
}
