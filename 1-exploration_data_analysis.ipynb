{
 "cells": [
  {
   "cell_type": "markdown",
   "metadata": {},
   "source": [
    "# Life Expectancy \n",
    "World Health Organization\n",
    "\n",
    "## Contexto:\n",
    "Com este estudo pretendemos analisar os fatores que influenciam a esperança média de vida, como variáveis demográficas, composição dos rendimento, taxas de mortalidade, assim como os efeitos da imunização. Procuramos descobri e intrepretar quais os melhores modelos de ML com base nos dados entre 2000 a 2015, abrangendo as variáveis de imunizações (como Hepatite B, Poliomielite e Difteria) e fatores económicos, sociais e de saúde. Com este trabalho procuramos que os decisores dos países identificar os fatores que contribuem para uma menor esperança de vida e propor áreas de melhoria para aumentar este indicador.\n",
    "\n",
    "## Conteúdo\n",
    "Os dados recolhidos e que serão utilizados provêm do repositório da Global Health Observatory (Organização Mundial da Saúde) e incluem fatores relacionados com saúde de 193 países, complementados com dados económicos das Nações Unidas. Apenas os fatores críticos foram selecionadossendo que no final o conjunto de dados contém 22 colunas e 2938 linhas, com 20 variáveis preditoras divididas em categorias: imunização, mortalidade, economia e fatores sociais.\n"
   ]
  },
  {
   "cell_type": "markdown",
   "metadata": {},
   "source": [
    "# 1 - Análise Exploratória de Dados (EDA)\n",
    "\n",
    "* Aquisição de Dados\n",
    "* Análise Descritiva\n",
    "* Análise Exploratória\n",
    "* Qualidade dos Dados"
   ]
  },
  {
   "cell_type": "markdown",
   "metadata": {},
   "source": [
    "## 1.1 - Bibliotecas Utilizadas"
   ]
  },
  {
   "cell_type": "code",
   "execution_count": 3,
   "metadata": {},
   "outputs": [
    {
     "ename": "ModuleNotFoundError",
     "evalue": "No module named 'matplotlib'",
     "output_type": "error",
     "traceback": [
      "\u001b[1;31m---------------------------------------------------------------------------\u001b[0m",
      "\u001b[1;31mModuleNotFoundError\u001b[0m                       Traceback (most recent call last)",
      "Cell \u001b[1;32mIn[3], line 2\u001b[0m\n\u001b[0;32m      1\u001b[0m \u001b[38;5;28;01mimport\u001b[39;00m \u001b[38;5;21;01mpandas\u001b[39;00m \u001b[38;5;28;01mas\u001b[39;00m \u001b[38;5;21;01mpd\u001b[39;00m\n\u001b[1;32m----> 2\u001b[0m \u001b[38;5;28;01mimport\u001b[39;00m \u001b[38;5;21;01mmatplotlib\u001b[39;00m\u001b[38;5;21;01m.\u001b[39;00m\u001b[38;5;21;01mpyplot\u001b[39;00m \u001b[38;5;28;01mas\u001b[39;00m \u001b[38;5;21;01mplt\u001b[39;00m\n\u001b[0;32m      3\u001b[0m \u001b[38;5;28;01mimport\u001b[39;00m \u001b[38;5;21;01mnumpy\u001b[39;00m \u001b[38;5;28;01mas\u001b[39;00m \u001b[38;5;21;01mnp\u001b[39;00m\n\u001b[0;32m      4\u001b[0m \u001b[38;5;28;01mimport\u001b[39;00m \u001b[38;5;21;01mseaborn\u001b[39;00m \u001b[38;5;28;01mas\u001b[39;00m \u001b[38;5;21;01msns\u001b[39;00m\n",
      "\u001b[1;31mModuleNotFoundError\u001b[0m: No module named 'matplotlib'"
     ]
    }
   ],
   "source": [
    "import pandas as pd\n",
    "import matplotlib.pyplot as plt\n",
    "import numpy as np\n",
    "import seaborn as sns\n",
    "import arules as ar"
   ]
  }
 ],
 "metadata": {
  "kernelspec": {
   "display_name": "Python 3",
   "language": "python",
   "name": "python3"
  },
  "language_info": {
   "codemirror_mode": {
    "name": "ipython",
    "version": 3
   },
   "file_extension": ".py",
   "mimetype": "text/x-python",
   "name": "python",
   "nbconvert_exporter": "python",
   "pygments_lexer": "ipython3",
   "version": "undefined.undefined.undefined"
  }
 },
 "nbformat": 4,
 "nbformat_minor": 2
}
